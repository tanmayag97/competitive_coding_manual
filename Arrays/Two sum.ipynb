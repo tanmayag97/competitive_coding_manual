{
 "cells": [
  {
   "cell_type": "markdown",
   "metadata": {},
   "source": [
    "## Two sum"
   ]
  },
  {
   "cell_type": "markdown",
   "metadata": {},
   "source": [
    "Given an array of integers, return indices of the two numbers such that they add up to a specific target. <br>\n",
    "You may assume that each input would have exactly one solution, and you may not use the same element twice."
   ]
  },
  {
   "cell_type": "markdown",
   "metadata": {},
   "source": [
    "**_Example:_** <br>\n",
    "Given nums = [2, 7, 11, 15], target = 9, <br>\n",
    "return [0, 1].\n",
    "\n",
    "Because nums[0] + nums[1] = 2 + 7 = 9, <br>\n"
   ]
  },
  {
   "cell_type": "markdown",
   "metadata": {},
   "source": [
    "**_Assumptions_** <br>\n",
    "-Unique array <br>\n",
    "-Exactly one solution "
   ]
  },
  {
   "cell_type": "markdown",
   "metadata": {},
   "source": [
    "### Brute force"
   ]
  },
  {
   "cell_type": "code",
   "execution_count": 1,
   "metadata": {},
   "outputs": [],
   "source": [
    "#Time complexity: O(n^2)\n",
    "#Space complexity: O(1)\n",
    "#Baseline function with intuitive algorithm",
    "def twosum_bf(arr, target):\n",
    "    index_list = []\n",
    "    for index in range(len(arr)):\n",
    "        index_list.append(index)\n",
    "        for j in range(index + 1, len(arr)):\n",
    "            if arr[index] + arr[j] == target:\n",
    "                index_list.append(j)\n",
    "                return index_list\n",
    "        index_list.pop()\n"
   ]
  },
  {
   "cell_type": "markdown",
   "metadata": {},
   "source": [
    "### Using hash table"
   ]
  },
  {
   "cell_type": "code",
   "execution_count": 2,
   "metadata": {},
   "outputs": [],
   "source": [
    "#Time complexity: O(n)\n",
    "#Space complexity: O(n)\n",
    "#Uses the concept of hash table to define (key,value) pairs",
    "def two_sum_hash_table(array, target):\n",
    "    ht = {}\n",
    "    for element in array:\n",
    "        if element in ht:\n",
    "            return [ht[element], array.index(element)]\n",
    "        else:\n",
    "            ht[target - element] = array.index(element)"
   ]
  },
  {
   "cell_type": "markdown",
   "metadata": {},
   "source": [
    "### Most efficient solution"
   ]
  },
  {
   "cell_type": "code",
   "execution_count": 3,
   "metadata": {},
   "outputs": [],
   "source": [
    "#Uses sorted array\n",
    "#Time complexity: O(n)\n",
    "#Space complexity: O(1)\n",
    "def two_sum(array, target):\n",
    "    i = 0\n",
    "    j = -1\n",
    "    while (target != array[i] + array[j]):\n",
    "        if target > array[i] + array[j]:\n",
    "            i += 1\n",
    "        elif target < array[i] + array[j]:\n",
    "            j -= 1\n",
    "    return [i, array.index(array[j])]\n",
    "        \n",
    "        "
   ]
  },
  {
   "cell_type": "code",
   "execution_count": 4,
   "metadata": {},
   "outputs": [],
   "source": [
    "nums = [2,7,11,15,52]\n",
    "target = 54"
   ]
  },
  {
   "cell_type": "code",
   "execution_count": 5,
   "metadata": {},
   "outputs": [
    {
     "name": "stdout",
     "output_type": "stream",
     "text": [
      "Solution best is:  [0, 4]\n",
      "Solution with hash table is:  [0, 4]\n",
      "Solution with brute force is:  [0, 4]\n"
     ]
    }
   ],
   "source": [
    "print(\"Solution best is: \",two_sum(nums, target))\n",
    "print(\"Solution with hash table is: \", two_sum_hash_table(nums, target))\n",
    "print(\"Solution with brute force is: \", twosum_bf(nums, target))"
   ]
  }
 ],
 "metadata": {
  "kernelspec": {
   "display_name": "Python 3",
   "language": "python",
   "name": "python3"
  },
  "language_info": {
   "codemirror_mode": {
    "name": "ipython",
    "version": 3
   },
   "file_extension": ".py",
   "mimetype": "text/x-python",
   "name": "python",
   "nbconvert_exporter": "python",
   "pygments_lexer": "ipython3",
   "version": "3.7.3"
  }
 },
 "nbformat": 4,
 "nbformat_minor": 4
}
